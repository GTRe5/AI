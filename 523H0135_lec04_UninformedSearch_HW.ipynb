{
  "nbformat": 4,
  "nbformat_minor": 0,
  "metadata": {
    "colab": {
      "provenance": [],
      "include_colab_link": true
    },
    "kernelspec": {
      "name": "python3",
      "display_name": "Python 3"
    },
    "language_info": {
      "name": "python"
    }
  },
  "cells": [
    {
      "cell_type": "markdown",
      "metadata": {
        "id": "view-in-github",
        "colab_type": "text"
      },
      "source": [
        "<a href=\"https://colab.research.google.com/github/GTRe5/AI/blob/main/523H0135_lec04_UninformedSearch_HW.ipynb\" target=\"_parent\"><img src=\"https://colab.research.google.com/assets/colab-badge.svg\" alt=\"Open In Colab\"/></a>"
      ]
    },
    {
      "cell_type": "markdown",
      "source": [
        "Students refer to pseudo codes of BFS, DFS, UCS, DLS, and IDS in [this link](https://drive.google.com/file/d/1q2LtrRCfemfiqyhfxNMcVJ3alvLh_pdV/view?usp=share_link) to implement the corresponding classes in TODO 1 - 5. \\\n",
        "Students can add supporting attributes and methods to the five classes of search strategies as needed."
      ],
      "metadata": {
        "id": "mm5b-FZhfA5H"
      }
    },
    {
      "cell_type": "markdown",
      "source": [
        "# Libraries"
      ],
      "metadata": {
        "id": "9In-lpCRc7rc"
      }
    },
    {
      "cell_type": "code",
      "source": [
        "import os\n",
        "import heapq"
      ],
      "metadata": {
        "id": "baZnzmhNW8KU"
      },
      "execution_count": 96,
      "outputs": []
    },
    {
      "cell_type": "markdown",
      "source": [
        "# Graph class"
      ],
      "metadata": {
        "id": "Hm_qjIb4dB8a"
      }
    },
    {
      "cell_type": "code",
      "execution_count": 97,
      "metadata": {
        "id": "IBUbARThU6VK"
      },
      "outputs": [],
      "source": [
        "# Directed, weighted graphs\n",
        "class Graph:\n",
        "  def __init__(self):\n",
        "    self.AL = dict() # adjacency list\n",
        "    self.V = 0\n",
        "    self.E = 0\n",
        "\n",
        "  def __str__(self):\n",
        "    res = 'V: %d, E: %d\\n'%(self.V, self.E)\n",
        "    for u, neighbors in self.AL.items():\n",
        "      line = '%d: %s\\n'%(u, str(neighbors))\n",
        "      res += line\n",
        "    return res\n",
        "\n",
        "  def print(self):\n",
        "    print(str(self))\n",
        "\n",
        "  def load_from_file(self, filename):\n",
        "    '''\n",
        "        Example input file:\n",
        "            V E\n",
        "            u v w\n",
        "            u v w\n",
        "            u v w\n",
        "            ...\n",
        "\n",
        "        # input.txt\n",
        "        7 8\n",
        "        0 1 5\n",
        "        0 2 6\n",
        "        1 3 12\n",
        "        1 4 9\n",
        "        2 5 5\n",
        "        3 5 8\n",
        "        3 6 7\n",
        "        4 6 4\n",
        "    '''\n",
        "    if os.path.exists(filename):\n",
        "      with open(filename) as g:\n",
        "        self.V, self.E = [int(it) for it in g.readline().split()]\n",
        "        for line in g:\n",
        "          u, v, w = [int(it) for it in line.strip().split()]\n",
        "          if u not in self.AL:\n",
        "            self.AL[u] = []\n",
        "          self.AL[u].append((v, w))"
      ]
    },
    {
      "cell_type": "code",
      "source": [
        "g = Graph()\n",
        "g.load_from_file('input.txt')\n",
        "g.print()"
      ],
      "metadata": {
        "colab": {
          "base_uri": "https://localhost:8080/"
        },
        "id": "k_3EmSFKXtwk",
        "outputId": "d8670a02-6f57-4eaa-8c54-571d232ae88c"
      },
      "execution_count": 98,
      "outputs": [
        {
          "output_type": "stream",
          "name": "stdout",
          "text": [
            "V: 7, E: 8\n",
            "0: [(1, 5), (2, 6)]\n",
            "1: [(3, 12), (4, 9)]\n",
            "2: [(5, 5)]\n",
            "3: [(5, 8), (6, 7)]\n",
            "4: [(6, 4)]\n",
            "\n"
          ]
        }
      ]
    },
    {
      "cell_type": "code",
      "source": [
        "from google.colab import drive\n",
        "drive.mount('/content/drive')"
      ],
      "metadata": {
        "id": "bd8cqjzZ48ff",
        "colab": {
          "base_uri": "https://localhost:8080/"
        },
        "outputId": "a7e289a6-ac5c-4aff-f1c6-72f7d6238a50"
      },
      "execution_count": 99,
      "outputs": [
        {
          "output_type": "stream",
          "name": "stdout",
          "text": [
            "Drive already mounted at /content/drive; to attempt to forcibly remount, call drive.mount(\"/content/drive\", force_remount=True).\n"
          ]
        }
      ]
    },
    {
      "cell_type": "markdown",
      "source": [
        "# Search Strategies"
      ],
      "metadata": {
        "id": "95fgste5dFp0"
      }
    },
    {
      "cell_type": "code",
      "source": [
        "class SearchStrategy:\n",
        "  def search(self, g: Graph, src: int, dst: int) -> tuple:\n",
        "    expanded = [] # list of expanded vertices in the traversal order\n",
        "    path = [] # path from src to dst\n",
        "    return expanded, path"
      ],
      "metadata": {
        "id": "DjEuaXToYqk6"
      },
      "execution_count": 100,
      "outputs": []
    },
    {
      "cell_type": "code",
      "source": [
        "class BFS(SearchStrategy):\n",
        "  def search(self, g: Graph, src: int, dst: int) -> tuple:\n",
        "    expanded = [] # list of expanded vertices in the traversal order\n",
        "    path = [] # path from src to dst\n",
        "\n",
        "    # TODO 1\n",
        "    node = src\n",
        "    if node == dst :\n",
        "      return [node], [node]\n",
        "\n",
        "    frontier = [node] #FIFO queue\n",
        "    explored = set()\n",
        "    parent = {node : None}\n",
        "\n",
        "    while frontier :\n",
        "      node = frontier.pop(0) # Pop from queue (FIFO)\n",
        "      expanded.append(node)\n",
        "      explored.add(node)\n",
        "\n",
        "\n",
        "      if node == dst :  # If it find goal, then stop the loop\n",
        "        break\n",
        "\n",
        "      # Explore all neighbors of the current node\n",
        "      if node in g.AL :\n",
        "        for neighbor, _ in g.AL[node] :  # Get all node's neighbors\n",
        "          if neighbor not in explored and neighbor not in frontier :\n",
        "            parent[neighbor] = node\n",
        "            frontier.append(neighbor)\n",
        "    \"\"\"\n",
        "     for key, value in parent.items():\n",
        "       print(f\"{key} : parent = {value}\")\n",
        "    \"\"\"\n",
        "\n",
        "    # Reconstruct time hehe\n",
        "    if dst in parent :\n",
        "      neighbor = dst\n",
        "      while neighbor is not None :\n",
        "        path.append(neighbor)\n",
        "        neighbor = parent[neighbor]\n",
        "      path.reverse()\n",
        "\n",
        "    return expanded, path"
      ],
      "metadata": {
        "id": "Iax-_lNJZcQc"
      },
      "execution_count": 101,
      "outputs": []
    },
    {
      "cell_type": "code",
      "source": [
        "class DFS(SearchStrategy):\n",
        "  def search(self, g: Graph, src: int, dst: int) -> tuple:\n",
        "    expanded = [] # list of expanded vertices in the traversal order\n",
        "    path = [] # path from src to dst\n",
        "\n",
        "    # TODO 2\n",
        "    node = src\n",
        "    if node == dst :\n",
        "      return [node], [node]\n",
        "\n",
        "    frontier = [node]  # LIFO stack\n",
        "    explored = set()\n",
        "    parent = {node : None}\n",
        "\n",
        "    while frontier :\n",
        "      node = frontier.pop()  # Pop from stack (LIFO)\n",
        "      if node in explored:\n",
        "        continue  # Skip already visited nodes\n",
        "\n",
        "      expanded.append(node)\n",
        "      explored.add(node)\n",
        "\n",
        "      if node == dst:  # If it find goal, then stop the loop\n",
        "        break\n",
        "\n",
        "      # Explore all neighbors of the current node\n",
        "      if node in g.AL:\n",
        "        for neighbor, _ in reversed(g.AL[node]) :  # Reverse to match recursive DFS order\n",
        "          if neighbor not in explored :\n",
        "            parent[neighbor] = node\n",
        "            frontier.append(neighbor)  # Add to stack (LIFO)\n",
        "\n",
        "    # Reconstruct time ehehe\n",
        "    if dst in parent :\n",
        "      neighbor = dst\n",
        "      while neighbor is not None :\n",
        "        path.append(neighbor)\n",
        "        neighbor = parent[neighbor]\n",
        "      path.reverse()\n",
        "\n",
        "    return expanded, path"
      ],
      "metadata": {
        "id": "nMO61eRTZrRS"
      },
      "execution_count": 102,
      "outputs": []
    },
    {
      "cell_type": "code",
      "source": [
        "class UCS(SearchStrategy):\n",
        "  def search(self, g: Graph, src: int, dst: int) -> tuple:\n",
        "    expanded = [] # list of expanded vertices in the traversal order\n",
        "    path = [] # path from src to dst\n",
        "\n",
        "    # TODO 3\n",
        "    frontier = [(0, src)] # Priority queue\n",
        "    explore = {src : 0} # Similar with the shortest cost of each node\n",
        "    parent = {src : None}\n",
        "\n",
        "    while frontier :\n",
        "      cost, node = heapq.heappop(frontier)\n",
        "\n",
        "      if node in expanded:\n",
        "        continue  # Skip nodes already expanded\n",
        "\n",
        "      expanded.append(node)\n",
        "\n",
        "      if node == dst :  # Stop if we reach the goal\n",
        "        break\n",
        "\n",
        "      # Explore all neighbors of the current node\n",
        "      if node in g.AL:\n",
        "        for neighbor, weight in g.AL[node] :\n",
        "          new_cost = cost + weight  # Compute new path cost\n",
        "\n",
        "          # If the neighbor is unvisited OR we found a cheaper path to it\n",
        "          if neighbor not in explore or new_cost < explore[neighbor] :\n",
        "            explore[neighbor] = new_cost\n",
        "            parent[neighbor] = node\n",
        "            heapq.heappush(frontier, (new_cost, neighbor))  # Push with priority\n",
        "\n",
        "    # Reconstruct 3rd time\n",
        "    if dst in parent :\n",
        "      node = dst\n",
        "      while node is not None :\n",
        "        path.append(node)\n",
        "        node = parent[node]\n",
        "      path.reverse()\n",
        "\n",
        "\n",
        "    return expanded, path"
      ],
      "metadata": {
        "id": "xp3Vi2j5Zr00"
      },
      "execution_count": 103,
      "outputs": []
    },
    {
      "cell_type": "code",
      "source": [
        "class DLS(SearchStrategy):\n",
        "  def __init__(self, LIM: int):\n",
        "    self.LIM = LIM\n",
        "\n",
        "  def recursive_dls(self, g: Graph,\n",
        "                    node: int, dst: int,depth: int,\n",
        "                    expanded: list, path: list, parent: dict) -> bool :\n",
        "    if depth < 0 or depth > self. LIM :\n",
        "      return False  # Cutoff condition\n",
        "\n",
        "    expanded.append(node)\n",
        "\n",
        "    if node == dst :  # Stop if we reach the goal\n",
        "      path.append(node)\n",
        "      return True\n",
        "\n",
        "    if node in g.AL:  # Expand children\n",
        "      for child, _ in g.AL[node] :\n",
        "          if child not in expanded :\n",
        "              parent[child] = node\n",
        "              if self.recursive_dls(g, child, dst, depth - 1, expanded, path, parent) :\n",
        "                  path.append(node)  # Backtrack to reconstruct the path\n",
        "                  return True\n",
        "\n",
        "    return False\n",
        "\n",
        "  def search(self, g: Graph, src: int, dst: int) -> tuple :\n",
        "    expanded = [] # list of expanded vertices in the traversal order\n",
        "    path = [] # path from src to dst\n",
        "\n",
        "    # TODO 4\n",
        "    parent = {src : None}\n",
        "    if self.recursive_dls(g, src, dst, self.LIM, expanded, path, parent) :\n",
        "      path.reverse()  # Anyway reconstruction timeeeee\n",
        "    else :\n",
        "      path = []\n",
        "\n",
        "    return expanded, path"
      ],
      "metadata": {
        "id": "akqnRp04Zsbt"
      },
      "execution_count": 104,
      "outputs": []
    },
    {
      "cell_type": "code",
      "source": [
        "class IDS(SearchStrategy):\n",
        "  def __init__(self, MAX_LIM: int):\n",
        "    self.MAX_LIM = MAX_LIM\n",
        "\n",
        "  def search(self, g: Graph, src: int, dst: int) -> tuple:\n",
        "    expanded = [] # list of expanded vertices in the traversal order\n",
        "    path = [] # path from src to dst\n",
        "\n",
        "    # TODO 5\n",
        "    for depth in range(self.MAX_LIM + 1) :\n",
        "      dls = DLS(depth)  # Create a Depth-Limited Search (DLS) instance\n",
        "      expanded, path = dls.search(g, src, dst)\n",
        "\n",
        "      if path :  # If only path exists it will return right now\n",
        "        return expanded, path\n",
        "\n",
        "    return expanded, path"
      ],
      "metadata": {
        "id": "os7VMwXIZ4f2"
      },
      "execution_count": 105,
      "outputs": []
    },
    {
      "cell_type": "markdown",
      "source": [
        "# Evaluation"
      ],
      "metadata": {
        "id": "hzWhWbDMdItW"
      }
    },
    {
      "cell_type": "code",
      "source": [
        "bfs = BFS()\n",
        "dfs = DFS()\n",
        "ucs = UCS()\n",
        "dls = DLS(LIM=3)\n",
        "ids = IDS(MAX_LIM=5)\n",
        "\n",
        "for stg in [bfs, dfs, ucs, dls, ids]:\n",
        "  print(stg)\n",
        "  expanded, path = stg.search(g, 0, g.V-1)\n",
        "  print(expanded)\n",
        "  print(path)\n",
        "\n",
        "\n"
      ],
      "metadata": {
        "id": "kI0wFSGuaKeT",
        "colab": {
          "base_uri": "https://localhost:8080/"
        },
        "outputId": "5661a7c7-33a4-40bc-dedf-4cdab941e758"
      },
      "execution_count": 106,
      "outputs": [
        {
          "output_type": "stream",
          "name": "stdout",
          "text": [
            "<__main__.BFS object at 0x79537772b650>\n",
            "[0, 1, 2, 3, 4, 5, 6]\n",
            "[0, 1, 3, 6]\n",
            "<__main__.DFS object at 0x79537772aad0>\n",
            "[0, 1, 3, 5, 6]\n",
            "[0, 1, 3, 6]\n",
            "<__main__.UCS object at 0x795377458d50>\n",
            "[0, 1, 2, 5, 4, 3, 6]\n",
            "[0, 1, 4, 6]\n",
            "<__main__.DLS object at 0x79537745b750>\n",
            "[0, 1, 3, 5, 6]\n",
            "[0, 1, 3, 6]\n",
            "<__main__.IDS object at 0x79537770b510>\n",
            "[0, 1, 3, 5, 6]\n",
            "[0, 1, 3, 6]\n"
          ]
        }
      ]
    },
    {
      "cell_type": "markdown",
      "source": [
        "# Submission"
      ],
      "metadata": {
        "id": "v_juZ-dPUlpP"
      }
    },
    {
      "cell_type": "markdown",
      "source": [
        "*   Students download the notebook after completion\n",
        "*   Rename the notebook in which inserting your student ID at the beginning. \\\n",
        "For example, **123456-lec04-UninformedSearch-HW.ipynb**\n",
        "*   Finally, submit the file\n",
        "\n"
      ],
      "metadata": {
        "id": "svA6tZBfUmt_"
      }
    }
  ]
}
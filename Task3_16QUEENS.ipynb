{
  "nbformat": 4,
  "nbformat_minor": 0,
  "metadata": {
    "colab": {
      "provenance": [],
      "include_colab_link": true
    },
    "kernelspec": {
      "name": "python3",
      "display_name": "Python 3"
    },
    "language_info": {
      "name": "python"
    }
  },
  "cells": [
    {
      "cell_type": "markdown",
      "metadata": {
        "id": "view-in-github",
        "colab_type": "text"
      },
      "source": [
        "<a href=\"https://colab.research.google.com/github/GTRe5/AI/blob/main/Task3_16QUEENS.ipynb\" target=\"_parent\"><img src=\"https://colab.research.google.com/assets/colab-badge.svg\" alt=\"Open In Colab\"/></a>"
      ]
    },
    {
      "cell_type": "markdown",
      "source": [
        "## LIBRARY"
      ],
      "metadata": {
        "id": "RIKmcQkS3b8R"
      }
    },
    {
      "cell_type": "code",
      "source": [
        "# Import library\n",
        "import random"
      ],
      "metadata": {
        "id": "JmFyjEKf2SyF"
      },
      "execution_count": 8,
      "outputs": []
    },
    {
      "cell_type": "markdown",
      "source": [
        "## Defining queen class"
      ],
      "metadata": {
        "id": "sNdKYqKU2C1k"
      }
    },
    {
      "cell_type": "code",
      "source": [
        "class Queen:\n",
        "  def __init__(self, row, col):\n",
        "    self.row = row\n",
        "    self.col = col"
      ],
      "metadata": {
        "id": "2hhsI3gZ2Pk9"
      },
      "execution_count": 9,
      "outputs": []
    },
    {
      "cell_type": "markdown",
      "source": [
        "## Defining board class"
      ],
      "metadata": {
        "id": "T4Q8tMpv2Noi"
      }
    },
    {
      "cell_type": "code",
      "source": [
        "class Board:\n",
        "  def __init__(self, size):\n",
        "    self.size = size\n",
        "    self.queens = [Queen(i, random.randint(0, size - 1)) for i in range(size)]\n",
        "\n",
        "  def fitness(self):\n",
        "    # Calculate the number of non-attacking pairs of queens\n",
        "    # Higher fitness is better (fewer conflicts)\n",
        "    attacks = 0\n",
        "    for i in range(self.size):\n",
        "      for j in range(i + 1, self.size):\n",
        "          qi = self.queens[i]\n",
        "          qj = self.queens[j]\n",
        "\n",
        "          # Check if queens attack each other (same column or diagonal)\n",
        "          if qi.col == qj.col:  # Same column\n",
        "              attacks += 1\n",
        "          elif abs(qi.row - qj.row) == abs(qi.col - qj.col):  # Diagonal\n",
        "              attacks += 1\n",
        "\n",
        "    # Maximum possible attacks for n queens is n*(n-1)/2\n",
        "    max_attacks = (self.size * (self.size - 1)) // 2\n",
        "\n",
        "    # Fitness is inversely proportional to number of attacks\n",
        "    # Perfect solution has fitness = max_attacks (no attacks)\n",
        "    return max_attacks - attacks\n",
        "\n",
        "  def crossover(self, other):\n",
        "    # Two-point crossover\n",
        "    n = self.size\n",
        "    c1 = random.randint(1, n-2)  # First crossover point\n",
        "    c2 = random.randint(c1+1, n-1)  # Second crossover point\n",
        "\n",
        "    child = Board(self.size)\n",
        "\n",
        "    # Take queens from first parent up to first crossover point\n",
        "    for i in range(0, c1):\n",
        "      child.queens[i].col = self.queens[i].col\n",
        "\n",
        "    # Take queens from second parent between first and second crossover points\n",
        "    for i in range(c1, c2):\n",
        "      child.queens[i].col = other.queens[i].col\n",
        "\n",
        "    # Take queens from first parent after second crossover point\n",
        "    for i in range(c2, n):\n",
        "      child.queens[i].col = self.queens[i].col\n",
        "\n",
        "    return child\n",
        "\n",
        "  def mutate(self, mutation_rate):\n",
        "    # Randomly change column positions based on mutation rate\n",
        "    for i in range(self.size):\n",
        "      if random.random() < mutation_rate:\n",
        "          # Move queen to a random column in the same row\n",
        "          self.queens[i].col = random.randint(0, self.size - 1)\n",
        "    return self\n",
        "\n",
        "# Example usage:\n",
        "board_size = 16\n",
        "population_size = 256\n",
        "mutation_rate = 0.2\n",
        "\n",
        "# Random selection based on fitness-fn\n",
        "def random_selection(population, fitness_fn):\n",
        "  # Tournament selection\n",
        "  tournament_size = 5\n",
        "  selected = random.sample(population, tournament_size)\n",
        "  selected.sort(key=fitness_fn, reverse=True)\n",
        "  return selected[0]"
      ],
      "metadata": {
        "id": "D3NxXhF22e2f"
      },
      "execution_count": 10,
      "outputs": []
    },
    {
      "cell_type": "code",
      "source": [
        "# Reproduce function\n",
        "def reproduce(x, y):\n",
        "  return x.crossover(y)"
      ],
      "metadata": {
        "id": "rj1sBO4i9GBK"
      },
      "execution_count": 11,
      "outputs": []
    },
    {
      "cell_type": "markdown",
      "source": [
        "## Implement genetic algorithm"
      ],
      "metadata": {
        "id": "u2qJXiI99htw"
      }
    },
    {
      "cell_type": "code",
      "source": [
        "def genetic_algorithm(board_size, population_size, mutation_rate, generations):\n",
        "  # Initial population\n",
        "  population = [Board(board_size) for _ in range(population_size)]\n",
        "  _ = 0\n",
        "  for generation in range(generations):\n",
        "    # Get current best solution\n",
        "    population.sort(key=lambda x: x.fitness(), reverse=True)\n",
        "    best_board = population[0]\n",
        "    best_fitness = best_board.fitness()\n",
        "\n",
        "    # Print progress\n",
        "    max_fitness = (board_size * (board_size - 1)) // 2\n",
        "\n",
        "    if _ < best_fitness:\n",
        "      _ = best_fitness\n",
        "      print(f\"Generation {generation}: Best fitness = {best_fitness}/{max_fitness}\")\n",
        "\n",
        "    # Check if optimal solution found\n",
        "    if best_fitness == max_fitness:\n",
        "      print(\"Found optimal solution!\")\n",
        "      return best_board\n",
        "\n",
        "    # Create new population\n",
        "    new_population = []\n",
        "\n",
        "    for i in range(population_size):\n",
        "      # Select parents\n",
        "      x = random_selection(population, lambda board: board.fitness())\n",
        "      y = random_selection(population, lambda board: board.fitness())\n",
        "\n",
        "      # Reproduce\n",
        "      child = reproduce(x, y)\n",
        "\n",
        "      # Mutate\n",
        "      if random.random() < mutation_rate:\n",
        "        child.mutate(mutation_rate)\n",
        "\n",
        "      new_population.append(child)\n",
        "\n",
        "    population = new_population\n",
        "\n",
        "  # Return best solution after all generations\n",
        "  population.sort(key=lambda x: x.fitness(), reverse=True)\n",
        "  return population[0]"
      ],
      "metadata": {
        "id": "LIPMVC4h9qll"
      },
      "execution_count": 12,
      "outputs": []
    },
    {
      "cell_type": "code",
      "source": [
        "solution = genetic_algorithm(board_size, population_size, mutation_rate, generations = 100)"
      ],
      "metadata": {
        "id": "OmSiKPuLB5lR",
        "colab": {
          "base_uri": "https://localhost:8080/"
        },
        "outputId": "ccb9371b-3068-4f85-df0b-1dc2f53d7b49"
      },
      "execution_count": 13,
      "outputs": [
        {
          "output_type": "stream",
          "name": "stdout",
          "text": [
            "Generation 0: Best fitness = 113/120\n",
            "Generation 5: Best fitness = 115/120\n",
            "Generation 11: Best fitness = 117/120\n",
            "Generation 15: Best fitness = 118/120\n",
            "Generation 16: Best fitness = 119/120\n",
            "Generation 44: Best fitness = 120/120\n",
            "Found optimal solution!\n"
          ]
        }
      ]
    },
    {
      "cell_type": "code",
      "source": [
        "print(\"Final solution:\")\n",
        "board = [[\".\" for _ in range(board_size)] for _ in range(board_size)]\n",
        "for queen in solution.queens:\n",
        "  board[queen.row][queen.col] = \"Q\"\n",
        "\n",
        "for row in board:\n",
        "  print(\" \".join(row))\n",
        "\n",
        "# Print queen positions\n",
        "print(\"\\nQueen positions (columns):\")\n",
        "print([queen.col + 1 for queen in solution.queens])"
      ],
      "metadata": {
        "colab": {
          "base_uri": "https://localhost:8080/"
        },
        "id": "w3RdvnCtB1Xf",
        "outputId": "c7854a95-176c-4795-eed2-9c5ae984e722"
      },
      "execution_count": 14,
      "outputs": [
        {
          "output_type": "stream",
          "name": "stdout",
          "text": [
            "Final solution:\n",
            ". . . . . . Q . . . . . . . . .\n",
            ". . . . Q . . . . . . . . . . .\n",
            ". . . . . . . . . Q . . . . . .\n",
            ". . . . . . . . . . . . Q . . .\n",
            ". . . . . . . . Q . . . . . . .\n",
            ". . . . . . . . . . . . . . . Q\n",
            ". . . Q . . . . . . . . . . . .\n",
            ". Q . . . . . . . . . . . . . .\n",
            ". . . . . . . . . . Q . . . . .\n",
            ". . . . . Q . . . . . . . . . .\n",
            "Q . . . . . . . . . . . . . . .\n",
            ". . . . . . . . . . . Q . . . .\n",
            ". . . . . . . Q . . . . . . . .\n",
            ". . . . . . . . . . . . . . Q .\n",
            ". . Q . . . . . . . . . . . . .\n",
            ". . . . . . . . . . . . . Q . .\n",
            "\n",
            "Queen positions (columns):\n",
            "[7, 5, 10, 13, 9, 16, 4, 2, 11, 6, 1, 12, 8, 15, 3, 14]\n",
            "(Queen 1 : 7)\n",
            "(Queen 2 : 5)\n",
            "(Queen 3 : 10)\n",
            "(Queen 4 : 13)\n",
            "(Queen 5 : 9)\n",
            "(Queen 6 : 16)\n",
            "(Queen 7 : 4)\n",
            "(Queen 8 : 2)\n",
            "(Queen 9 : 11)\n",
            "(Queen 10 : 6)\n",
            "(Queen 11 : 1)\n",
            "(Queen 12 : 12)\n",
            "(Queen 13 : 8)\n",
            "(Queen 14 : 15)\n",
            "(Queen 15 : 3)\n",
            "(Queen 16 : 14)\n"
          ]
        }
      ]
    }
  ]
}
{
  "nbformat": 4,
  "nbformat_minor": 0,
  "metadata": {
    "colab": {
      "provenance": [],
      "include_colab_link": true
    },
    "kernelspec": {
      "name": "python3",
      "display_name": "Python 3"
    },
    "language_info": {
      "name": "python"
    }
  },
  "cells": [
    {
      "cell_type": "markdown",
      "metadata": {
        "id": "view-in-github",
        "colab_type": "text"
      },
      "source": [
        "<a href=\"https://colab.research.google.com/github/GTRe5/AI/blob/main/523H0135_lec05_BestFirstSearch_HW.ipynb\" target=\"_parent\"><img src=\"https://colab.research.google.com/assets/colab-badge.svg\" alt=\"Open In Colab\"/></a>"
      ]
    },
    {
      "cell_type": "markdown",
      "source": [
        "Students implement GBFS and A* algorithms following TODO 1 - 2. \\\n",
        "Students can add supporting attributes and methods to the two classes as needed."
      ],
      "metadata": {
        "id": "mm5b-FZhfA5H"
      }
    },
    {
      "cell_type": "code",
      "source": [
        "from google.colab import drive\n",
        "drive.mount('/content/drive')"
      ],
      "metadata": {
        "colab": {
          "base_uri": "https://localhost:8080/"
        },
        "id": "jqJMS9g1DQ3I",
        "outputId": "c87ebf61-af8c-432e-f3e2-64fbe00e604a"
      },
      "execution_count": null,
      "outputs": [
        {
          "output_type": "stream",
          "name": "stdout",
          "text": [
            "Mounted at /content/drive\n"
          ]
        }
      ]
    },
    {
      "cell_type": "markdown",
      "source": [
        "# Libraries"
      ],
      "metadata": {
        "id": "9In-lpCRc7rc"
      }
    },
    {
      "cell_type": "code",
      "source": [
        "import os\n",
        "import heapq"
      ],
      "metadata": {
        "id": "baZnzmhNW8KU"
      },
      "execution_count": null,
      "outputs": []
    },
    {
      "cell_type": "markdown",
      "source": [
        "# Graph class"
      ],
      "metadata": {
        "id": "Hm_qjIb4dB8a"
      }
    },
    {
      "cell_type": "code",
      "execution_count": null,
      "metadata": {
        "id": "IBUbARThU6VK"
      },
      "outputs": [],
      "source": [
        "# Directed, weighted graphs\n",
        "class Graph:\n",
        "  def __init__(self):\n",
        "    self.AL = dict() # adjacency list\n",
        "    self.V = 0\n",
        "    self.E = 0\n",
        "    self.H = dict()\n",
        "\n",
        "  def __str__(self):\n",
        "    res = 'V: %d, E: %d\\n'%(self.V, self.E)\n",
        "    for u, neighbors in self.AL.items():\n",
        "      line = '%d: %s\\n'%(u, str(neighbors))\n",
        "      res += line\n",
        "    for u, h in self.H.items():\n",
        "      line = 'h(%d) = %d\\n'%(u, h)\n",
        "      res += line\n",
        "    return res\n",
        "\n",
        "  def print(self):\n",
        "    print(str(self))\n",
        "\n",
        "  def load_from_file(self, filename):\n",
        "    '''\n",
        "        Example input file:\n",
        "            V E\n",
        "            u v w\n",
        "            u v w\n",
        "            u v w\n",
        "            ...\n",
        "            u1 h1\n",
        "            u2 h2\n",
        "            u3 h3\n",
        "            ...\n",
        "\n",
        "        # input.txt\n",
        "        7 8\n",
        "        0 1 5\n",
        "        0 2 6\n",
        "        1 3 12\n",
        "        1 4 9\n",
        "        2 5 5\n",
        "        3 5 8\n",
        "        3 6 7\n",
        "        4 6 4\n",
        "        0 14\n",
        "        1 13\n",
        "        2 12\n",
        "        3 11\n",
        "        4 10\n",
        "        5 9\n",
        "        6 0\n",
        "    '''\n",
        "    if os.path.exists(filename):\n",
        "      with open(filename) as g:\n",
        "        self.V, self.E = [int(it) for it in g.readline().split()]\n",
        "        for i in range(self.E):\n",
        "          line = g.readline()\n",
        "          u, v, w = [int(it) for it in line.strip().split()]\n",
        "          if u not in self.AL:\n",
        "            self.AL[u] = []\n",
        "          self.AL[u].append((v, w))\n",
        "        for i in range(self.V):\n",
        "          line = g.readline()\n",
        "          u, h = [int(it) for it in line.strip().split()]\n",
        "          self.H[u] = h"
      ]
    },
    {
      "cell_type": "code",
      "source": [
        "g = Graph()\n",
        "g.load_from_file('input.txt')\n",
        "g.print()"
      ],
      "metadata": {
        "colab": {
          "base_uri": "https://localhost:8080/"
        },
        "id": "k_3EmSFKXtwk",
        "outputId": "b2422cff-6745-424c-d02f-c66f8e83a2f6"
      },
      "execution_count": null,
      "outputs": [
        {
          "output_type": "stream",
          "name": "stdout",
          "text": [
            "V: 7, E: 8\n",
            "0: [(1, 5), (2, 6)]\n",
            "1: [(3, 12), (4, 9)]\n",
            "2: [(5, 5)]\n",
            "3: [(5, 8), (6, 7)]\n",
            "4: [(6, 4)]\n",
            "h(0) = 14\n",
            "h(1) = 13\n",
            "h(2) = 12\n",
            "h(3) = 11\n",
            "h(4) = 10\n",
            "h(5) = 9\n",
            "h(6) = 0\n",
            "\n"
          ]
        }
      ]
    },
    {
      "cell_type": "markdown",
      "source": [
        "# Search Strategies"
      ],
      "metadata": {
        "id": "95fgste5dFp0"
      }
    },
    {
      "cell_type": "code",
      "source": [
        "class BestSearchStrategy:\n",
        "  def search(self, g: Graph, src: int, dst: int) -> tuple:\n",
        "    expanded = [] # list of expanded vertices in the traversal order\n",
        "    path = [] # path from src to dst\n",
        "    return expanded, path"
      ],
      "metadata": {
        "id": "DjEuaXToYqk6"
      },
      "execution_count": null,
      "outputs": []
    },
    {
      "cell_type": "code",
      "source": [
        "class GBFS(BestSearchStrategy):\n",
        "  def search(self, g: Graph, src: int, dst: int) -> tuple:\n",
        "    expanded = [] # list of expanded vertices in the traversal order\n",
        "    path = [] # path from src to dst\n",
        "\n",
        "    # TODO 1\n",
        "\n",
        "    frontier = [(g.H[src], src)]  # Priority Queue by h(n)\n",
        "    parent = {src: None}\n",
        "    visited = set()  # Empty set = explored\n",
        "\n",
        "    while frontier:\n",
        "      _, node = heapq.heappop(frontier)  # Pick the node that has the smallest h(n) one\n",
        "\n",
        "      if node in visited:\n",
        "        continue  # Skip nodes already expanded\n",
        "\n",
        "      expanded.append(node)\n",
        "      visited.add(node)\n",
        "\n",
        "      if node == dst:\n",
        "        break  # If it find goal, then stop the loop\n",
        "\n",
        "      # Explore all neighbors of the current node\n",
        "      if node in g.AL:\n",
        "        for neighbor, _ in g.AL[node]:\n",
        "          if neighbor not in visited:\n",
        "            parent[neighbor] = node\n",
        "            heapq.heappush(frontier, (g.H[neighbor], neighbor))  # Priority by h(n)\n",
        "\n",
        "    # Reconstruction ...\n",
        "    if dst in parent:\n",
        "      node = dst\n",
        "      while node is not None:\n",
        "        path.append(node)\n",
        "        node = parent[node]\n",
        "      path.reverse()\n",
        "\n",
        "    return expanded, path"
      ],
      "metadata": {
        "id": "Iax-_lNJZcQc"
      },
      "execution_count": null,
      "outputs": []
    },
    {
      "cell_type": "code",
      "source": [
        "class AStar(BestSearchStrategy):\n",
        "  def search(self, g: Graph, src: int, dst: int) -> tuple:\n",
        "    expanded = [] # list of expanded vertices in the traversal order\n",
        "    path = [] # path from src to dst\n",
        "\n",
        "    # TODO 2\n",
        "\n",
        "    frontier = [(g.H[src], 0, src)]  # Priority Queue by f(n) = g(n) + h(n)\n",
        "    explore = {src: 0}  # Similar with the shortest cost of each node\n",
        "    parent = {src: None}\n",
        "\n",
        "    while frontier:\n",
        "      _, cost, node = heapq.heappop(frontier)  # Pick the node that has the smallest f(n) one\n",
        "\n",
        "\n",
        "      if node in expanded:\n",
        "        continue  # Skip nodes already expanded\n",
        "\n",
        "      expanded.append(node)\n",
        "\n",
        "      if node == dst:\n",
        "        break  # If it find goal, then stop the loop\n",
        "\n",
        "      # Explore all neighbors of the current node\n",
        "      if node in g.AL:\n",
        "        for neighbor, weight in g.AL[node]:\n",
        "          new_cost = cost + weight  # Calculate new g(n)\n",
        "          f_value = new_cost + g.H[neighbor]  # Calculate/Evaluate f(n) = g(n) + h(n)\n",
        "\n",
        "          # If the neighbor is unvisited OR we found a cheaper path to it\n",
        "          if neighbor not in explore or new_cost < explore[neighbor]:\n",
        "            explore[neighbor] = new_cost\n",
        "            parent[neighbor] = node\n",
        "            heapq.heappush(frontier, (f_value, new_cost, neighbor))  # Put in the queue with f(n)\n",
        "\n",
        "    # Reconstruction n-th time\n",
        "    if dst in parent:\n",
        "      node = dst\n",
        "      while node is not None:\n",
        "        path.append(node)\n",
        "        node = parent[node]\n",
        "      path.reverse()\n",
        "\n",
        "    return expanded, path"
      ],
      "metadata": {
        "id": "nMO61eRTZrRS"
      },
      "execution_count": null,
      "outputs": []
    },
    {
      "cell_type": "markdown",
      "source": [
        "# Evaluation"
      ],
      "metadata": {
        "id": "hzWhWbDMdItW"
      }
    },
    {
      "cell_type": "code",
      "source": [
        "gbfs = GBFS()\n",
        "astar = AStar()\n",
        "\n",
        "for stg in [gbfs, astar]:\n",
        "  print(stg)\n",
        "  expanded, path = stg.search(g, 0, g.V-1)\n",
        "  print(expanded)\n",
        "  print(path)"
      ],
      "metadata": {
        "colab": {
          "base_uri": "https://localhost:8080/"
        },
        "id": "kI0wFSGuaKeT",
        "outputId": "f4f2be3c-a9e3-451f-c8a6-a657ce03bfd5"
      },
      "execution_count": null,
      "outputs": [
        {
          "output_type": "stream",
          "name": "stdout",
          "text": [
            "<__main__.GBFS object at 0x7e84c9a116d0>\n",
            "[0, 2, 5, 1, 4, 6]\n",
            "[0, 1, 4, 6]\n",
            "<__main__.AStar object at 0x7e84c9a12d90>\n",
            "[0, 1, 2, 5, 4, 6]\n",
            "[0, 1, 4, 6]\n"
          ]
        }
      ]
    },
    {
      "cell_type": "markdown",
      "source": [
        "# Submission\n",
        "\n",
        "*   Students download the notebook after completion\n",
        "*   Rename the notebook in which inserting your student ID at the beginning. \\\n",
        "For example, **123456-lec05-BestFirstSearch-HW.ipynb**\n",
        "*   Finally, submit the file"
      ],
      "metadata": {
        "id": "95erCQsOdTfL"
      }
    }
  ]
}
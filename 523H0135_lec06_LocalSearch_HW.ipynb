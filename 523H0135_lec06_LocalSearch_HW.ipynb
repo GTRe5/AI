{
  "nbformat": 4,
  "nbformat_minor": 0,
  "metadata": {
    "colab": {
      "provenance": [],
      "include_colab_link": true
    },
    "kernelspec": {
      "name": "python3",
      "display_name": "Python 3"
    },
    "language_info": {
      "name": "python"
    }
  },
  "cells": [
    {
      "cell_type": "markdown",
      "metadata": {
        "id": "view-in-github",
        "colab_type": "text"
      },
      "source": [
        "<a href=\"https://colab.research.google.com/github/GTRe5/AI/blob/main/523H0135_lec06_LocalSearch_HW.ipynb\" target=\"_parent\"><img src=\"https://colab.research.google.com/assets/colab-badge.svg\" alt=\"Open In Colab\"/></a>"
      ]
    },
    {
      "cell_type": "markdown",
      "source": [
        "Students implement Hill-Climbing Search, Local Beam Search, and Simulated Annealing Search algorithms following TODO 1 - 3. \\\n",
        "Students can add supporting attributes and methods to the three classes as needed."
      ],
      "metadata": {
        "id": "mm5b-FZhfA5H"
      }
    },
    {
      "cell_type": "markdown",
      "source": [
        "# Libraries"
      ],
      "metadata": {
        "id": "9In-lpCRc7rc"
      }
    },
    {
      "cell_type": "code",
      "source": [
        "import os\n",
        "import heapq"
      ],
      "metadata": {
        "id": "baZnzmhNW8KU"
      },
      "execution_count": 27,
      "outputs": []
    },
    {
      "cell_type": "markdown",
      "source": [
        "# Graph class"
      ],
      "metadata": {
        "id": "Hm_qjIb4dB8a"
      }
    },
    {
      "cell_type": "code",
      "execution_count": 28,
      "metadata": {
        "id": "IBUbARThU6VK"
      },
      "outputs": [],
      "source": [
        "# Directed, weighted graphs\n",
        "class Graph:\n",
        "  def __init__(self):\n",
        "    self.AL = dict() # adjacency list\n",
        "    self.V = 0\n",
        "    self.E = 0\n",
        "    self.H = dict()\n",
        "\n",
        "  def __str__(self):\n",
        "    res = 'V: %d, E: %d\\n'%(self.V, self.E)\n",
        "    for u, neighbors in self.AL.items():\n",
        "      line = '%d: %s\\n'%(u, str(neighbors))\n",
        "      res += line\n",
        "    for u, h in self.H.items():\n",
        "      line = 'h(%d) = %d\\n'%(u, h)\n",
        "      res += line\n",
        "    return res\n",
        "\n",
        "  def print(self):\n",
        "    print(str(self))\n",
        "\n",
        "  def load_from_file(self, filename):\n",
        "    '''\n",
        "        Example input file:\n",
        "            V E\n",
        "            u v w\n",
        "            u v w\n",
        "            u v w\n",
        "            ...\n",
        "            u1 h1\n",
        "            u2 h2\n",
        "            u3 h3\n",
        "            ...\n",
        "\n",
        "        # input.txt\n",
        "        7 8\n",
        "        0 1 5\n",
        "        0 2 6\n",
        "        1 3 12\n",
        "        1 4 9\n",
        "        2 5 5\n",
        "        3 5 8\n",
        "        3 6 7\n",
        "        4 6 4\n",
        "        0 14\n",
        "        1 13\n",
        "        2 12\n",
        "        3 11\n",
        "        4 10\n",
        "        5 9\n",
        "        6 0\n",
        "    '''\n",
        "    if os.path.exists(filename):\n",
        "      with open(filename) as g:\n",
        "        self.V, self.E = [int(it) for it in g.readline().split()]\n",
        "        for i in range(self.E):\n",
        "          line = g.readline()\n",
        "          u, v, w = [int(it) for it in line.strip().split()]\n",
        "          if u not in self.AL:\n",
        "            self.AL[u] = []\n",
        "          self.AL[u].append((v, w))\n",
        "        for i in range(self.V):\n",
        "          line = g.readline()\n",
        "          u, h = [int(it) for it in line.strip().split()]\n",
        "          self.H[u] = h\n",
        "  def get_neighbors(self, u):\n",
        "    return self.AL.get(u, [])"
      ]
    },
    {
      "cell_type": "code",
      "source": [
        "from google.colab import drive\n",
        "drive.mount('/content/drive')"
      ],
      "metadata": {
        "colab": {
          "base_uri": "https://localhost:8080/"
        },
        "id": "KpBeiJG7HCQu",
        "outputId": "b7a25c0d-9976-4bf4-f3f6-64868c9c8fc7"
      },
      "execution_count": 29,
      "outputs": [
        {
          "output_type": "stream",
          "name": "stdout",
          "text": [
            "Drive already mounted at /content/drive; to attempt to forcibly remount, call drive.mount(\"/content/drive\", force_remount=True).\n"
          ]
        }
      ]
    },
    {
      "cell_type": "code",
      "source": [
        "g = Graph()\n",
        "g.load_from_file('input.txt')\n",
        "g.print()"
      ],
      "metadata": {
        "colab": {
          "base_uri": "https://localhost:8080/"
        },
        "id": "k_3EmSFKXtwk",
        "outputId": "1d3f382a-454d-4577-c696-a4927696dd3a"
      },
      "execution_count": 30,
      "outputs": [
        {
          "output_type": "stream",
          "name": "stdout",
          "text": [
            "V: 7, E: 8\n",
            "0: [(1, 5), (2, 6)]\n",
            "1: [(3, 12), (4, 9)]\n",
            "2: [(5, 5)]\n",
            "3: [(5, 8), (6, 7)]\n",
            "4: [(6, 4)]\n",
            "h(0) = 14\n",
            "h(1) = 13\n",
            "h(2) = 12\n",
            "h(3) = 11\n",
            "h(4) = 10\n",
            "h(5) = 9\n",
            "h(6) = 0\n",
            "\n"
          ]
        }
      ]
    },
    {
      "cell_type": "markdown",
      "source": [
        "# Search Strategies"
      ],
      "metadata": {
        "id": "95fgste5dFp0"
      }
    },
    {
      "cell_type": "code",
      "source": [
        "class LocalSearchStrategy:\n",
        "  def search(self, g: Graph, src: int) -> tuple:\n",
        "    '''\n",
        "    return a tuple (u, p) in which\n",
        "      u: the local maximum state\n",
        "      p: the priority/weight/desirability/cost of u\n",
        "    '''\n",
        "    return (None, None)"
      ],
      "metadata": {
        "id": "DjEuaXToYqk6"
      },
      "execution_count": 31,
      "outputs": []
    },
    {
      "cell_type": "code",
      "source": [
        "class HillClimbingSearch(LocalSearchStrategy):\n",
        "  def search(self, g: Graph, src: int) -> tuple:\n",
        "    '''\n",
        "    return a tuple (u, p) in which\n",
        "      u: the local maximum state\n",
        "      p: the priority/weight/desirability/cost of u\n",
        "\n",
        "    Note: weight of a node u = path_cost to u + heuristic value of u (similar to A*)\n",
        "    '''\n",
        "    # TODO 1\n",
        "    u = src # Incase if src was the local maximum\n",
        "    cost = 0 # G(n) with n = 0 - initial state\n",
        "    p = cost + g.H[u] # H(n) + G(n)\n",
        "\n",
        "    while True:\n",
        "      neighbors = g.get_neighbors(u) # Get all neighbors\n",
        "      if not neighbors:\n",
        "        return (u, p) # Return if no neighbors\n",
        "\n",
        "      improved = False # Track if we find a better move\n",
        "\n",
        "      for neighbor, neighbor_cost in neighbors :\n",
        "        generated_p = (neighbor_cost + cost) + g.H[neighbor]\n",
        "\n",
        "        if generated_p > p:\n",
        "          u = neighbor\n",
        "          p = generated_p\n",
        "          cost += neighbor_cost\n",
        "          improved = True\n",
        "          break\n",
        "\n",
        "      if not improved:\n",
        "        return (u, p)\n",
        "    #   u, p = best_neighbor, best_p\n",
        "    #   cost += best_cost\n",
        "    # return (None, None)"
      ],
      "metadata": {
        "id": "Iax-_lNJZcQc",
        "collapsed": true
      },
      "execution_count": 32,
      "outputs": []
    },
    {
      "cell_type": "code",
      "source": [
        "class LocalBeamSearch(LocalSearchStrategy):\n",
        "  def __init__(self, n = 5):  # Default beam width = 5\n",
        "    self.n = n\n",
        "\n",
        "  def search(self, g: Graph, src: int) -> tuple:\n",
        "    '''\n",
        "    return a tuple (u, p) in which:\n",
        "      u: the local maximum state\n",
        "      p: the priority/weight/desirability/cost of u\n",
        "\n",
        "    Note:\n",
        "    - weight of a node u = path_cost to u + heuristic value of u (similar to A*)\n",
        "    - parameter n is provided in the constructor\n",
        "    '''\n",
        "    # u = src\n",
        "    # cost = 0\n",
        "    # p = cost + g.H[u]\n",
        "\n",
        "    # beam = [(u, p)]  # Store (state, priority)\n",
        "    states = [(0 + g.H[src], 0, src)]\n",
        "\n",
        "    while states:\n",
        "      next_states = []\n",
        "\n",
        "      # Expand neighbors for each state in the beam\n",
        "      for _, path_cost, u in states:\n",
        "        for neighbor, cost in g.get_neighbors(u):\n",
        "          new_cost = path_cost + cost\n",
        "          new_priority = new_cost + g.H[neighbor]\n",
        "          heapq.heappush(next_states, (new_priority, new_cost, neighbor))\n",
        "\n",
        "      if not next_states:\n",
        "        best_state = max(states, key = lambda x: x[0])  # Get the best found state\n",
        "        return (best_state[2], best_state[0])  # Return best found state (u, p)\n",
        "\n",
        "      # Select the top `k` best candidates\n",
        "      states = heapq.nsmallest(self.n, next_states)\n",
        "\n",
        "    return (None, None)\n"
      ],
      "metadata": {
        "id": "b3aVMO8YxGC9"
      },
      "execution_count": 33,
      "outputs": []
    },
    {
      "cell_type": "code",
      "source": [
        "import math\n",
        "import random\n",
        "\n",
        "class SimulatedAnnealingSearch(LocalSearchStrategy):\n",
        "  def schedule(self, t):\n",
        "    return 1 / math.pow(t, 2)  # Cooling function\n",
        "  def search(self, g: Graph, src: int) -> tuple:\n",
        "    '''\n",
        "    return a tuple (u, p) in which:\n",
        "      u: the final state found\n",
        "      p: the priority/weight/desirability/cost of u\n",
        "\n",
        "    Notes:\n",
        "    - Unlike Hill Climbing, SAS allows **probabilistic downhill moves**.\n",
        "    - Cooling schedule: `schedule(t) = 1 / (t^2)`\n",
        "    '''\n",
        "    # TODO 3\n",
        "    u = src\n",
        "    cost = 0\n",
        "    p = cost + g.H[u]\n",
        "\n",
        "    t = 1  # Initial temperature (iteration step)\n",
        "\n",
        "    while True:\n",
        "      T = self.schedule(t)  # Cooling schedule\n",
        "      if T < 1e-5:  # Stop if temperature is too low\n",
        "        return (u, p)\n",
        "\n",
        "      neighbors = g.get_neighbors(u)\n",
        "      if not neighbors:\n",
        "        return (u, p)  # Return best found state\n",
        "\n",
        "      # Pick a random neighbor\n",
        "      neighbor, neighbor_cost = random.choice(neighbors)\n",
        "      new_p = (cost + neighbor_cost) + g.H[neighbor]\n",
        "\n",
        "      # Always accept if it's better, otherwise use probability\n",
        "      delta_E = new_p - p\n",
        "      if new_p > p or random.uniform(0, 1) < math.exp(delta_E / T):\n",
        "        u, p = neighbor, new_p\n",
        "        cost += neighbor_cost\n",
        "\n",
        "      t += 1  # Increase iteration step\n"
      ],
      "metadata": {
        "id": "OMwlpNHcxGYl"
      },
      "execution_count": 34,
      "outputs": []
    },
    {
      "cell_type": "markdown",
      "source": [
        "# Evaluation"
      ],
      "metadata": {
        "id": "hzWhWbDMdItW"
      }
    },
    {
      "cell_type": "code",
      "source": [
        "hcs = HillClimbingSearch()\n",
        "lbs = LocalBeamSearch()\n",
        "sas = SimulatedAnnealingSearch()\n",
        "\n",
        "for stg in [hcs, lbs, sas]:\n",
        "  print(stg)\n",
        "  u, p = stg.search(g, 0)\n",
        "  print(u, p)"
      ],
      "metadata": {
        "id": "kI0wFSGuaKeT",
        "colab": {
          "base_uri": "https://localhost:8080/"
        },
        "outputId": "0145ec68-f28b-4443-cc77-fc49b91f379b"
      },
      "execution_count": 35,
      "outputs": [
        {
          "output_type": "stream",
          "name": "stdout",
          "text": [
            "<__main__.HillClimbingSearch object at 0x7d1f716f3450>\n",
            "5 34\n",
            "<__main__.LocalBeamSearch object at 0x7d1f7154dfd0>\n",
            "5 34\n",
            "<__main__.SimulatedAnnealingSearch object at 0x7d1f7172f690>\n",
            "5 20\n"
          ]
        }
      ]
    },
    {
      "cell_type": "markdown",
      "source": [
        "# Submission\n",
        "\n",
        "*   Students download the notebook after completion\n",
        "*   Rename the notebook in which inserting your student ID at the beginning. \\\n",
        "For example, **123456-lec06-LocalSearch-HW.ipynb**\n",
        "*   Finally, submit the file"
      ],
      "metadata": {
        "id": "95erCQsOdTfL"
      }
    }
  ]
}